{
  "nbformat": 4,
  "nbformat_minor": 0,
  "metadata": {
    "colab": {
      "provenance": []
    },
    "kernelspec": {
      "name": "python3",
      "display_name": "Python 3"
    },
    "language_info": {
      "name": "python"
    }
  },
  "cells": [
    {
      "cell_type": "code",
      "execution_count": null,
      "metadata": {
        "id": "WxaZoim8uqLo"
      },
      "outputs": [],
      "source": [
        "pip install hugchat"
      ]
    },
    {
      "cell_type": "code",
      "source": [
        "email = \"\"\n",
        "password = \"\""
      ],
      "metadata": {
        "id": "jvHmALbXu8kI"
      },
      "execution_count": 13,
      "outputs": []
    },
    {
      "cell_type": "code",
      "source": [
        "from hugchat import hugchat\n",
        "from hugchat.login import Login\n",
        "\n",
        "sign = Login(email, password)\n",
        "cookies = sign.login()\n",
        "\n",
        "cookie_path_dir = \"./cookies_snapshot\"\n",
        "sign.saveCookiesToDir(cookie_path_dir)\n",
        "\n",
        "chatbot = hugchat.ChatBot(cookies=cookies.get_dict())"
      ],
      "metadata": {
        "id": "nKvb3i8Xuxyt"
      },
      "execution_count": null,
      "outputs": []
    },
    {
      "cell_type": "code",
      "source": [
        "input = \"Hello from the other side!!!\"\n",
        "query_result = chatbot.query(input)\n",
        "print(query_result)"
      ],
      "metadata": {
        "id": "Lc3K7SmYv8U2"
      },
      "execution_count": null,
      "outputs": []
    },
    {
      "cell_type": "code",
      "source": [
        "# Delete all conversations / create a new conversation\n",
        "chatbot.delete_all_conversations()\n",
        "id = chatbot.new_conversation()\n",
        "chatbot.change_conversation(id)"
      ],
      "metadata": {
        "id": "TcwVb0nowLnV"
      },
      "execution_count": 10,
      "outputs": []
    }
  ]
}